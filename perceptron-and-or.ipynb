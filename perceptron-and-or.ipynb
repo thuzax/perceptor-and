{
 "cells": [
  {
   "cell_type": "markdown",
   "metadata": {},
   "source": [
    "# Perceptron"
   ]
  },
  {
   "cell_type": "markdown",
   "metadata": {},
   "source": [
    "## Perceptron binário"
   ]
  },
  {
   "cell_type": "markdown",
   "metadata": {},
   "source": [
    "Definição da classe Perceptron cuja função de ativação é binária (tornando-se o resultado da predição)."
   ]
  },
  {
   "cell_type": "code",
   "execution_count": 1,
   "metadata": {},
   "outputs": [],
   "source": [
    "class Perceptron(object):\n",
    "    \"\"\"Implements a perceptron network\"\"\"\n",
    "    def __init__(self, input_size, lr=1, epochs=100):\n",
    "        self.W = [0] * (input_size + 1)\n",
    "        # add one for bias\n",
    "        self.epochs = epochs\n",
    "        self.lr = lr\n",
    "\n",
    "    def activation_fn(self, x):\n",
    "        #print( \" x=\", x)\n",
    "        #funcao binaria\n",
    "        return 1 if x >= 0 else 0\n",
    "\n",
    "        #funcao bipolar\n",
    "        # return 1 if x >= 0 else -1\n",
    "\n",
    "\n",
    "\n",
    "    def weighted_sum(self, x, w):\n",
    "        if(len(x) != len(w)):\n",
    "            raise Exception(\"List with differents sizes\")\n",
    "        r = 0\n",
    "        for i in range(len(w)):\n",
    "            r += x[i] * w[i]\n",
    "        return r\n",
    "\n",
    "    def predict(self, x):\n",
    "        z = self.weighted_sum(self.W, x)\n",
    "        a = self.activation_fn(z)\n",
    "        return a\n",
    "\n",
    "    def fit(self, X, d):\n",
    "        for _ in range(self.epochs):\n",
    "            for i in range(len(d)):\n",
    "                x = [1] + X[i]\n",
    "                y = self.predict(x)\n",
    "                e = d[i] - y\n",
    "                for j  in range(len(self.W)):\n",
    "                    self.W[j] = self.W[j] + self.lr * e * x[j]\n"
   ]
  },
  {
   "cell_type": "markdown",
   "metadata": {},
   "source": [
    "### Operador AND com entradas binárias e saídas binárias"
   ]
  },
  {
   "cell_type": "markdown",
   "metadata": {},
   "source": [
    "Cria-se uma instância de Perceptron e executa-se a função de treinameto (fit) com as instâncias de treino \"X\" cujos resultados são \"d\", obtendo-se assim os pesos de cada entrada."
   ]
  },
  {
   "cell_type": "code",
   "execution_count": 2,
   "metadata": {},
   "outputs": [
    {
     "name": "stdout",
     "output_type": "stream",
     "text": [
      "----------------------AND----------------------\n",
      "The W results =  [-3, 2, 1]\n"
     ]
    }
   ],
   "source": [
    "print(\"----------------------AND----------------------\")\n",
    "# AND training\n",
    "X = [\n",
    "        [0, 0],\n",
    "        [0, 1],\n",
    "        [1, 0],\n",
    "        [1, 1]\n",
    "    ]\n",
    "d = [0, 0, 0, 1]\n",
    "\n",
    "input_size = 2\n",
    "perceptron_and = Perceptron(input_size)\n",
    "perceptron_and.fit(X, d)\n",
    "print(\"The W results = \",perceptron_and.W)\n"
   ]
  },
  {
   "cell_type": "markdown",
   "metadata": {},
   "source": [
    "Após o treinamento, executa-se os testes com as instâncias armazenadas na variável \"testes\". Para cada teste imprime a predição."
   ]
  },
  {
   "cell_type": "code",
   "execution_count": 3,
   "metadata": {},
   "outputs": [
    {
     "name": "stdout",
     "output_type": "stream",
     "text": [
      "Tests and results:\n",
      "\t 0  AND  0  =  0\n",
      "\t 0  AND  1  =  0\n",
      "\t 1  AND  0  =  0\n",
      "\t 1  AND  1  =  1\n"
     ]
    }
   ],
   "source": [
    "# AND testing\n",
    "testes = [\n",
    "    [0, 0],\n",
    "    [0, 1],\n",
    "    [1, 0],\n",
    "    [1, 1]\n",
    "]\n",
    "\n",
    "print(\"Tests and results:\")\n",
    "for t in testes:\n",
    "    x = [1] + t\n",
    "    print(\"\\t\", x[1], \" AND \", x[2], \" = \", perceptron_and.predict(x))"
   ]
  },
  {
   "cell_type": "markdown",
   "metadata": {},
   "source": [
    "### Operador OR com entradas binárias e saídas binárias"
   ]
  },
  {
   "cell_type": "markdown",
   "metadata": {},
   "source": [
    "Utilizando-se a mesma classe Perceptron, é possível, seguindo os mesmos passos, gerar o operador OR, modificando-se apenas os resultados das instâncias de treinamento \"d\", como no código abaixo."
   ]
  },
  {
   "cell_type": "code",
   "execution_count": 4,
   "metadata": {},
   "outputs": [
    {
     "name": "stdout",
     "output_type": "stream",
     "text": [
      "----------------------OR----------------------\n",
      "The W results =  [-1, 1, 1]\n"
     ]
    }
   ],
   "source": [
    "print(\"----------------------OR----------------------\")\n",
    "# OR training\n",
    "X = [\n",
    "        [0, 0],\n",
    "        [0, 1],\n",
    "        [1, 0],\n",
    "        [1, 1]\n",
    "    ]\n",
    "d = [0, 1, 1, 1]\n",
    "\n",
    "input_size = 2\n",
    "perceptron_or = Perceptron(input_size)\n",
    "perceptron_or.fit(X, d)\n",
    "print(\"The W results = \",perceptron_or.W)"
   ]
  },
  {
   "cell_type": "markdown",
   "metadata": {},
   "source": [
    "Após o treinamento, assim como para o operador AND, podem ser realizados testes para verificar a eficiência do operador criado pelo Perceptron."
   ]
  },
  {
   "cell_type": "code",
   "execution_count": 5,
   "metadata": {
    "scrolled": true
   },
   "outputs": [
    {
     "name": "stdout",
     "output_type": "stream",
     "text": [
      "Tests and results:\n",
      "\t 0  OR  0  =  0\n",
      "\t 0  OR  1  =  1\n",
      "\t 1  OR  0  =  1\n",
      "\t 1  OR  1  =  1\n"
     ]
    }
   ],
   "source": [
    "# OR testing\n",
    "testes = [\n",
    "    [0, 0],\n",
    "    [0, 1],\n",
    "    [1, 0],\n",
    "    [1, 1]\n",
    "]\n",
    "\n",
    "print(\"Tests and results:\")\n",
    "for t in testes:\n",
    "    x = [1] + t\n",
    "    print(\"\\t\", x[1], \" OR \", x[2], \" = \", perceptron_or.predict(x))"
   ]
  },
  {
   "cell_type": "markdown",
   "metadata": {},
   "source": [
    "## Perceptron bipolar"
   ]
  },
  {
   "cell_type": "markdown",
   "metadata": {},
   "source": [
    "Modifica-se a classe Perceptron para que a função de ativação retorne um valor bipolar, gerando saídas bipolares"
   ]
  },
  {
   "cell_type": "code",
   "execution_count": 6,
   "metadata": {},
   "outputs": [],
   "source": [
    "class Perceptron(object):\n",
    "    \"\"\"Implements a perceptron network\"\"\"\n",
    "    def __init__(self, input_size, lr=1, epochs=100):\n",
    "        self.W = [0] * (input_size + 1)\n",
    "        # add one for bias\n",
    "        self.epochs = epochs\n",
    "        self.lr = lr\n",
    "\n",
    "    def activation_fn(self, x):\n",
    "        #print( \" x=\", x)\n",
    "        #funcao binaria\n",
    "        # return 1 if x >= 0 else 0\n",
    "\n",
    "        #funcao bipolar\n",
    "        return 1 if x >= 0 else -1\n",
    "    \n",
    "    def weighted_sum(self, x, w):\n",
    "        if(len(x) != len(w)):\n",
    "            raise Exception(\"List with differents sizes\")\n",
    "        r = 0\n",
    "        for i in range(len(w)):\n",
    "            r += x[i] * w[i]\n",
    "        return r\n",
    "\n",
    "    def predict(self, x):\n",
    "        z = self.weighted_sum(self.W, x)\n",
    "        a = self.activation_fn(z)\n",
    "        return a\n",
    "\n",
    "    def fit(self, X, d):\n",
    "        for _ in range(self.epochs):\n",
    "            for i in range(len(d)):\n",
    "                x = [1] + X[i]\n",
    "                y = self.predict(x)\n",
    "                e = d[i] - y\n",
    "                for j  in range(len(self.W)):\n",
    "                    self.W[j] = self.W[j] + self.lr * e * x[j]\n"
   ]
  },
  {
   "cell_type": "markdown",
   "metadata": {},
   "source": [
    "### Operador AND com entradas binárias e saídas bipolares"
   ]
  },
  {
   "cell_type": "markdown",
   "metadata": {},
   "source": [
    "No trecho de código abaixo foi modifica-se a lista de resultados \"d\" em relação ao treino do Operador AND para um Perceptron Binário. Após isso, o treino é realizado da mesma forma."
   ]
  },
  {
   "cell_type": "code",
   "execution_count": 7,
   "metadata": {},
   "outputs": [
    {
     "name": "stdout",
     "output_type": "stream",
     "text": [
      "----------------------AND----------------------\n",
      "The W results =  [-6, 4, 2]\n"
     ]
    }
   ],
   "source": [
    "print(\"----------------------AND----------------------\")\n",
    "# AND training\n",
    "X = [\n",
    "        [0, 0],\n",
    "        [0, 1],\n",
    "        [1, 0],\n",
    "        [1, 1]\n",
    "    ]\n",
    "d = [-1, -1, -1, 1]\n",
    "\n",
    "input_size = 2\n",
    "perceptron_and = Perceptron(input_size)\n",
    "perceptron_and.fit(X, d)\n",
    "print(\"The W results = \",perceptron_and.W)\n",
    "\n"
   ]
  },
  {
   "cell_type": "markdown",
   "metadata": {},
   "source": [
    "Executa-se o teste da mesma forma que o Operador AND com Perceptron Binário."
   ]
  },
  {
   "cell_type": "code",
   "execution_count": 8,
   "metadata": {
    "scrolled": true
   },
   "outputs": [
    {
     "name": "stdout",
     "output_type": "stream",
     "text": [
      "Tests and results:\n",
      "\t 0  AND  0  =  -1\n",
      "\t 0  AND  1  =  -1\n",
      "\t 1  AND  0  =  -1\n",
      "\t 1  AND  1  =  1\n"
     ]
    }
   ],
   "source": [
    "# AND testing\n",
    "testes = [\n",
    "    [0, 0],\n",
    "    [0, 1],\n",
    "    [1, 0],\n",
    "    [1, 1]\n",
    "]\n",
    "\n",
    "print(\"Tests and results:\")\n",
    "for t in testes:\n",
    "    x = [1] + t\n",
    "    print(\"\\t\", x[1], \" AND \", x[2], \" = \", perceptron_and.predict(x))\n"
   ]
  },
  {
   "cell_type": "markdown",
   "metadata": {},
   "source": [
    "### Operador OR com entradas binárias e saídas bipolares"
   ]
  },
  {
   "cell_type": "markdown",
   "metadata": {},
   "source": [
    "Como no Operador AND com entrada binárias e saídas bipolares, modifica-se somente a lista de resultados \"d\" e realiza-se o treino como anteriormente."
   ]
  },
  {
   "cell_type": "code",
   "execution_count": 9,
   "metadata": {},
   "outputs": [
    {
     "name": "stdout",
     "output_type": "stream",
     "text": [
      "----------------------OR----------------------\n",
      "The W results =  [-2, 2, 2]\n"
     ]
    }
   ],
   "source": [
    "print(\"----------------------OR----------------------\")\n",
    "# OR training\n",
    "X = [\n",
    "        [0, 0],\n",
    "        [0, 1],\n",
    "        [1, 0],\n",
    "        [1, 1]\n",
    "    ]\n",
    "d = [-1, 1, 1, 1]\n",
    "\n",
    "input_size = 2\n",
    "perceptron_or = Perceptron(input_size)\n",
    "perceptron_or.fit(X, d)\n",
    "print(\"The W results = \",perceptron_or.W)"
   ]
  },
  {
   "cell_type": "markdown",
   "metadata": {},
   "source": [
    "Os testes são realizados da mesma forma que no Operador OR com Perceptron Binário."
   ]
  },
  {
   "cell_type": "code",
   "execution_count": 10,
   "metadata": {},
   "outputs": [
    {
     "name": "stdout",
     "output_type": "stream",
     "text": [
      "Tests and results:\n",
      "\t 0  OR  0  =  -1\n",
      "\t 0  OR  1  =  1\n",
      "\t 1  OR  0  =  1\n",
      "\t 1  OR  1  =  1\n"
     ]
    }
   ],
   "source": [
    "# OR testing\n",
    "testes = [\n",
    "    [0, 0],\n",
    "    [0, 1],\n",
    "    [1, 0],\n",
    "    [1, 1]\n",
    "]\n",
    "\n",
    "print(\"Tests and results:\")\n",
    "for t in testes:\n",
    "    x = [1] + t\n",
    "    print(\"\\t\", x[1], \" OR \", x[2], \" = \", perceptron_or.predict(x))"
   ]
  },
  {
   "cell_type": "markdown",
   "metadata": {},
   "source": [
    "### Operador AND com entradas bipolares e saídas bipolares"
   ]
  },
  {
   "cell_type": "markdown",
   "metadata": {},
   "source": [
    "Modifica-se o vetor de instâncias de treino \"X\" para valores bipolares, mantendo-se o restando do código de treino igual ao do Operador AND com entradas binárias e saídas bipolares."
   ]
  },
  {
   "cell_type": "code",
   "execution_count": 11,
   "metadata": {},
   "outputs": [
    {
     "name": "stdout",
     "output_type": "stream",
     "text": [
      "----------------------AND----------------------\n",
      "The W results =  [-2, 2, 2]\n"
     ]
    }
   ],
   "source": [
    "print(\"----------------------AND----------------------\")\n",
    "# AND training\n",
    "X = [\n",
    "        [-1, -1],\n",
    "        [-1, 1],\n",
    "        [1, -1],\n",
    "        [1, 1]\n",
    "    ]\n",
    "d = [-1, -1, -1, 1]\n",
    "\n",
    "input_size = 2\n",
    "perceptron_and_bipolar = Perceptron(input_size)\n",
    "perceptron_and_bipolar.fit(X, d)\n",
    "print(\"The W results = \",perceptron_and_bipolar.W)"
   ]
  },
  {
   "cell_type": "markdown",
   "metadata": {},
   "source": [
    "Modifica-se as instâncias de teste para valores bipolares, mantendo-se o restando do código de testes igual ao do Operador AND com entradas binárias e saídas bipolares."
   ]
  },
  {
   "cell_type": "code",
   "execution_count": 12,
   "metadata": {},
   "outputs": [
    {
     "name": "stdout",
     "output_type": "stream",
     "text": [
      "Tests and results:\n",
      "\t -1  AND  -1  =  -1\n",
      "\t -1  AND  1  =  -1\n",
      "\t 1  AND  -1  =  -1\n",
      "\t 1  AND  1  =  1\n"
     ]
    }
   ],
   "source": [
    "# AND testing\n",
    "testes = [\n",
    "    [-1, -1],\n",
    "    [-1, 1],\n",
    "    [1, -1],\n",
    "    [1, 1]\n",
    "]\n",
    "\n",
    "print(\"Tests and results:\")\n",
    "for t in testes:\n",
    "    x = [1] + t\n",
    "    print(\"\\t\", x[1], \" AND \", x[2], \" = \", perceptron_and_bipolar.predict(x))"
   ]
  },
  {
   "cell_type": "markdown",
   "metadata": {},
   "source": [
    "### Operador OR com entradas bipolares e saídas bipolares"
   ]
  },
  {
   "cell_type": "markdown",
   "metadata": {},
   "source": [
    "Modifica-se o vetor de instâncias de treino \"X\" para valores bipolares, mantendo-se o restando do código de treino igual ao do Operador OR com entradas binárias e saídas bipolares."
   ]
  },
  {
   "cell_type": "code",
   "execution_count": 13,
   "metadata": {},
   "outputs": [
    {
     "name": "stdout",
     "output_type": "stream",
     "text": [
      "----------------------OR----------------------\n",
      "The W results =  [2, 2, 2]\n"
     ]
    }
   ],
   "source": [
    "print(\"----------------------OR----------------------\")\n",
    "# OR training\n",
    "X = [\n",
    "        [-1, -1],\n",
    "        [-1, 1],\n",
    "        [1, -1],\n",
    "        [1, 1]\n",
    "    ]\n",
    "d = [-1, 1, 1, 1]\n",
    "\n",
    "input_size = 2\n",
    "perceptron_or_bipolar = Perceptron(input_size)\n",
    "perceptron_or_bipolar.fit(X, d)\n",
    "print(\"The W results = \",perceptron_or_bipolar.W)"
   ]
  },
  {
   "cell_type": "markdown",
   "metadata": {},
   "source": [
    "Modifica-se as instâncias de teste para valores bipolares, mantendo-se o restando do código de testes igual ao do Operador OR com entradas binárias e saídas bipolares."
   ]
  },
  {
   "cell_type": "code",
   "execution_count": 14,
   "metadata": {},
   "outputs": [
    {
     "name": "stdout",
     "output_type": "stream",
     "text": [
      "Tests and results:\n",
      "\t -1  OR  -1  =  -1\n",
      "\t -1  OR  1  =  1\n",
      "\t 1  OR  -1  =  1\n",
      "\t 1  OR  1  =  1\n"
     ]
    }
   ],
   "source": [
    "# OR testing\n",
    "testes = [\n",
    "    [-1, -1],\n",
    "    [-1, 1],\n",
    "    [1, -1],\n",
    "    [1, 1]\n",
    "]\n",
    "\n",
    "print(\"Tests and results:\")\n",
    "for t in testes:\n",
    "    x = [1] + t\n",
    "    print(\"\\t\", x[1], \" OR \", x[2], \" = \", perceptron_or_bipolar.predict(x))"
   ]
  }
 ],
 "metadata": {
  "kernelspec": {
   "display_name": "Python 3",
   "language": "python",
   "name": "python3"
  },
  "language_info": {
   "codemirror_mode": {
    "name": "ipython",
    "version": 3
   },
   "file_extension": ".py",
   "mimetype": "text/x-python",
   "name": "python",
   "nbconvert_exporter": "python",
   "pygments_lexer": "ipython3",
   "version": "3.6.7"
  }
 },
 "nbformat": 4,
 "nbformat_minor": 2
}
